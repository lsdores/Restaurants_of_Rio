{
 "cells": [
  {
   "cell_type": "markdown",
   "metadata": {},
   "source": [
    "# Rio de Janeiro's neighborhoods by restaurant types"
   ]
  },
  {
   "cell_type": "markdown",
   "metadata": {},
   "source": [
    "### Author\n",
    "\n",
    "[Lucas das Dores](https://www.linkedin.com/in/lucas-das-dores/)"
   ]
  },
  {
   "cell_type": "markdown",
   "metadata": {},
   "source": [
    "## 1. Introduction"
   ]
  },
  {
   "cell_type": "markdown",
   "metadata": {},
   "source": [
    "This notebook is part of [Applied Data Science Capstone Project](https://www.coursera.org/learn/applied-data-science-capstone) of [IBM Data Science Professional Certificate](https://www.coursera.org/professional-certificates/ibm-data-science) on [Coursera.org](https://www.coursera.org/).\n",
    "\n",
    "Our aim is to classify the neighborhoods of Rio according to the types of restaurants and bars we can find on it. More precisely we will try to answer the following questions.\n",
    "\n",
    "1. Can we determine the most common types of bars and restaurants of each neighborhood?\n",
    "2. Can we find neighborhoods with similar profiles of offer of bars and restaurants?\n",
    "\n",
    "These profiles can be useful to decide the potential of opening a new business on a given neighbourhood and can help gauging the supply/demand of food related services in the neighborhood. Be that of a new restaurant or of a business to provide these restaurants with supplies and logistic."
   ]
  },
  {
   "cell_type": "markdown",
   "metadata": {},
   "source": [
    "## 2. Data"
   ]
  },
  {
   "cell_type": "markdown",
   "metadata": {},
   "source": [
    "We will use three sources of data:\n",
    "\n",
    "- We will collect the data of neighborhoods of Rio using the Dataset of [Neighborhoods of Rio](https://www.data.rio/datasets/limite-bairro/data?orderBy=SHAPE.STLength()&orderByAsc=false&selectedAttribute=SHAPE.STArea()) provided by [DataRio](https://www.data.rio/datasets) to get the name of all neighborhoods and the geolocation data of the limits of each neighborhood;\n",
    "\n",
    "- We will also use the `geopy` package to estimate a center for each neighborhood;\n",
    "\n",
    "- Finally, we will use the search endpoint of the Foursquare API to get the venues inside the largest circumscribed circles centered at the center of each neighborhood. From each of the venues data we will need only its latitude, longitude and category.\n",
    "\n",
    "Once we have this data we will be able to compute the frequency of a given type of restaurant in a given neighborhood and we can use a clustering algorithm to classify them according to these frequencies. We will also be able to the determine which are the most frequent types of restaurants on each profile. The data also allows to contruct visualizations of the profiles on an interactive map using the `folium` package.\n",
    "\n",
    "The descriptions of profiles and maps will help the aforementioned stakeholders decide the best strategy for their business."
   ]
  }
 ],
 "metadata": {
  "kernelspec": {
   "display_name": "Python 3",
   "language": "python",
   "name": "python3"
  },
  "language_info": {
   "codemirror_mode": {
    "name": "ipython",
    "version": 3
   },
   "file_extension": ".py",
   "mimetype": "text/x-python",
   "name": "python",
   "nbconvert_exporter": "python",
   "pygments_lexer": "ipython3",
   "version": "3.7.3"
  }
 },
 "nbformat": 4,
 "nbformat_minor": 4
}
